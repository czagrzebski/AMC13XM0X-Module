{
 "cells": [
  {
   "cell_type": "markdown",
   "metadata": {},
   "source": [
    "# PCB for AMC131M02 Reinforced Isolated Delta-Sigma ADC with SPI Interface\n",
    "### Creed Zagrzebski\n",
    "\n",
    "The AMC131M02 is a precision, two-channel, delta-sigma (ΔΣ) modulator with the output separated from the input circuitry by capacitive isolation. The input of the AMC131M02 is optimized to interface directly with shunt resistors for current monitoring or with a voltage divider for measuring voltage. The AMC131M02 features a fully integrated isolated DC/DC converter that allows a single-supply operation from the low-side of the device. The AMC131M02 is certified according to VDE V 0884-17 and UL1577 and is suitable for use in industrial applications requiring high precision and reinforced isolation. The isolation barrier separates parts of the system that operate on different common-mode voltage levels and protects lower voltage systems from damage, making the AMC131M02 an ideal solution for systems that need to measure small differential voltages in the presence of large common-mode voltages.\n",
    "\n",
    "This reference design is a complete solution for safely measuring industrial sensor signals. One channel is dedicated towards measuring a 0-10V voltage signal, and the other channel is dedicated towards measuring a 4-20mA current signal. The design is powered by a single 3.3V supply, and the output data is sent to a microcontroller via SPI. The design is reinforced isolated, and the isolation voltage is rated at 5kV RMS. \n",
    "\n",
    "This document goes over the calculations and design considerations for the AMC131M02 development board and provides a complete bill of materials (BOM) for the design. \n",
    "\n",
    "<center><img src=\"image.png\" width=\"600\"/></center>\n",
    "\n",
    "## PCB Schematic\n",
    "\n",
    "The schematic for the AMC131M02 development board is shown below. The design is powered by a single 3.3V supply, and the output data is sent to a microcontroller via SPI. The design is reinforced isolated, and the isolation voltage is rated at 5kV RMS.\n",
    "\n",
    "<center><img src=\"image-1.png\" width=\"800\" /></center>\n",
    "\n",
    "## PCB Layout\n",
    "TODO: Add PCB layout\n",
    "\n",
    "## Full Scale Range (FSR) Calculation\n",
    "The full-scale range (FSR) of the AMC131M02 is determined by the input voltage range and the gain setting. The AMC131M02 provides a gain of 1, 2, 4, 8, 16, 32, 64, and 128. The FSR is calculated using the following equation:\n",
    "\n",
    "$$FSR = \\frac{V_{IN}}{GAIN}$$\n",
    "\n",
    "Below is a list of the available FSRs for the AMC131M02:\n",
    "\n",
    "<center><img src=\"image-2.png\" width=\"800\" /></center>\n",
    "\n",
    "This module is configured with a gain of 2, which provides an FSR of 600mV. This option was chosen because it provides optimal offset error and noise performance.\n",
    "\n",
    "## Current Sense Channel (Channel 0)\n",
    "The current sense channel is designed to measure a 4-20mA current signal. The current signal is converted to a voltage signal using a 30Ω resistor. The voltage signal is then fed into the AMC131M02, which converts the signal to a digital output. The digital output is then sent to a microcontroller via SPI. The shunt resistor value was calculated using the following equation:\n",
    "\n",
    "$$R_{SHUNT MAX} \\leq \\frac{V_{FSR}}{I_{MAX}} = \\frac{0.600V}{0.020mA} = 30Ω$$\n",
    "\n",
    "The shunt resistor value was chosen to be 30Ω, which provides a full-scale range of 600mV. TI recommends using the maximum shunt resistor value to increase the voltoage drop for a given current, improving measurement accuracy. However, power dissipation in the shunt resistor must be considered. The power dissipation in the shunt resistor is calculated using the following equation:\n",
    "\n",
    "$$P_{SHUNT} = I_{MAX}^2 \\cdot R_{SHUNT} = (0.020A)^2 \\cdot 30Ω = 12mW$$, which is well within the 0.1W power rating of the 0805 SMD resistor."
   ]
  }
 ],
 "metadata": {
  "language_info": {
   "name": "python"
  }
 },
 "nbformat": 4,
 "nbformat_minor": 2
}
